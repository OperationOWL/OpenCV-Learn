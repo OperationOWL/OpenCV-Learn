{
 "cells": [
  {
   "cell_type": "code",
   "execution_count": 79,
   "metadata": {},
   "outputs": [],
   "source": [
    "import cv2\n",
    "import matplotlib.pyplot as plt\n",
    "import numpy as np\n",
    "import seaborn as sns"
   ]
  },
  {
   "cell_type": "code",
   "execution_count": 53,
   "metadata": {},
   "outputs": [],
   "source": [
    "\n",
    "horse = cv2.imread(\"horse.jpg\").astype(np.float32)\n",
    "horse = cv2.cvtColor(horse, cv2.COLOR_BGR2RGB)\n",
    "\n",
    "rainbow = cv2.imread(\"rainbow.jpg\").astype(np.float32)\n",
    "rainbow = cv2.cvtColor(rainbow, cv2.COLOR_BGR2RGB)\n",
    "\n",
    "bricks = cv2.imread(\"bricks.jpg\").astype(np.float32)\n",
    "bricks = cv2.cvtColor(bricks, cv2.COLOR_BGR2RGB)"
   ]
  },
  {
   "cell_type": "code",
   "execution_count": 95,
   "metadata": {},
   "outputs": [],
   "source": [
    "# Assuming horse is a 3D numpy array with RGB channels\n",
    "bricks_r = bricks[:, :, 0]  # Extract red channel\n",
    "bricks_g = bricks[:, :, 1]  # Extract green channel\n",
    "bricks_b = bricks[:, :, 2]  # Extract blue channel"
   ]
  },
  {
   "cell_type": "code",
   "execution_count": 99,
   "metadata": {},
   "outputs": [
    {
     "name": "stderr",
     "output_type": "stream",
     "text": [
      "c:\\Users\\suren\\anaconda3\\envs\\python-cvcourse\\lib\\site-packages\\seaborn\\_decorators.py:43: FutureWarning: Pass the following variable as a keyword arg: x. From version 0.12, the only valid positional argument will be `data`, and passing other arguments without an explicit keyword will result in an error or misinterpretation.\n",
      "  FutureWarning\n",
      "c:\\Users\\suren\\anaconda3\\envs\\python-cvcourse\\lib\\site-packages\\seaborn\\_decorators.py:43: FutureWarning: Pass the following variable as a keyword arg: x. From version 0.12, the only valid positional argument will be `data`, and passing other arguments without an explicit keyword will result in an error or misinterpretation.\n",
      "  FutureWarning\n",
      "c:\\Users\\suren\\anaconda3\\envs\\python-cvcourse\\lib\\site-packages\\seaborn\\_decorators.py:43: FutureWarning: Pass the following variable as a keyword arg: x. From version 0.12, the only valid positional argument will be `data`, and passing other arguments without an explicit keyword will result in an error or misinterpretation.\n",
      "  FutureWarning\n"
     ]
    },
    {
     "data": {
      "image/png": "[encoded data removed]",
      "text/plain": [
       "<Figure size 432x288 with 1 Axes>"
      ]
     },
     "metadata": {
      "needs_background": "light"
     },
     "output_type": "display_data"
    }
   ],
   "source": [
    "bricks_r = bricks_r.reshape(1203650)\n",
    "bricks_g = bricks_g.reshape(1203650)\n",
    "bricks_b = bricks_b.reshape(1203650)\n",
    "\n",
    "sns.countplot(bricks_r, alpha=0.3, color = \"red\")\n",
    "sns.countplot(bricks_g, alpha=0.3, color = \"green\")\n",
    "sns.countplot(bricks_b, alpha=0.3, color = \"blue\")\n",
    "plt.show()"
   ]
  },
  {
   "cell_type": "code",
   "execution_count": null,
   "metadata": {},
   "outputs": [],
   "source": []
  }
 ],
 "metadata": {
  "kernelspec": {
   "display_name": "python-cvcourse",
   "language": "python",
   "name": "python3"
  },
  "language_info": {
   "codemirror_mode": {
    "name": "ipython",
    "version": 3
   },
   "file_extension": ".py",
   "mimetype": "text/x-python",
   "name": "python",
   "nbconvert_exporter": "python",
   "pygments_lexer": "ipython3",
   "version": "3.6.6"
  }
 },
 "nbformat": 4,
 "nbformat_minor": 2
}
